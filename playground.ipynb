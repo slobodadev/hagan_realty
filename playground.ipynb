{
 "cells": [
  {
   "cell_type": "code",
   "id": "initial_id",
   "metadata": {
    "collapsed": true,
    "ExecuteTime": {
     "end_time": "2024-10-25T13:31:21.398771Z",
     "start_time": "2024-10-25T13:31:21.395968Z"
    }
   },
   "source": [
    "import os\n",
    "import requests\n",
    "import pyodata\n",
    "from dotenv import load_dotenv\n",
    "from odata import ODataService\n",
    "from authlib.integrations.requests_client import OAuth2Session"
   ],
   "outputs": [],
   "execution_count": 8
  },
  {
   "metadata": {
    "ExecuteTime": {
     "end_time": "2024-10-25T13:31:22.419220Z",
     "start_time": "2024-10-25T13:31:22.413711Z"
    }
   },
   "cell_type": "code",
   "source": "load_dotenv(\".env\")",
   "id": "529c7312d7cf95fe",
   "outputs": [
    {
     "data": {
      "text/plain": [
       "True"
      ]
     },
     "execution_count": 9,
     "metadata": {},
     "output_type": "execute_result"
    }
   ],
   "execution_count": 9
  },
  {
   "metadata": {
    "ExecuteTime": {
     "end_time": "2024-10-25T13:31:22.895400Z",
     "start_time": "2024-10-25T13:31:22.891732Z"
    }
   },
   "cell_type": "code",
   "source": [
    "BRIGHT_MLS_AUTH_URL = os.environ.get(\"BRIGHT_MLS_AUTH_URL\", \"\")\n",
    "BRIGHT_MLS_API_URL = os.environ.get(\"BRIGHT_MLS_API_URL\", \"\")\n",
    "BRIGHT_MLS_CLIENT_ID = os.environ.get(\"BRIGHT_MLS_CLIENT_ID\", \"\")\n",
    "BRIGHT_MLS_CLIENT_SECRET = os.environ.get(\"BRIGHT_MLS_CLIENT_SECRET\", \"\")"
   ],
   "id": "6adf9a096620a262",
   "outputs": [],
   "execution_count": 10
  },
  {
   "metadata": {
    "ExecuteTime": {
     "end_time": "2024-10-25T13:44:30.993496Z",
     "start_time": "2024-10-25T13:44:30.990235Z"
    }
   },
   "cell_type": "code",
   "source": [
    "def get_oauth_token():\n",
    "    session = OAuth2Session(BRIGHT_MLS_CLIENT_ID, BRIGHT_MLS_CLIENT_SECRET, scope=\"clientcred\")\n",
    "    # print(\"---session\", session)\n",
    "\n",
    "    token = session.fetch_token(BRIGHT_MLS_AUTH_URL, grant_type=\"client_credentials\")\n",
    "    # print(\"---token\", token)\n",
    "\n",
    "    return token[\"access_token\"]\n",
    "\n",
    "def get_service():\n",
    "    session = requests.Session()\n",
    "    session.headers.update(\n",
    "        {\n",
    "            \"User-Agent\": \"Bright WebAPI/1.0\",\n",
    "            \"Authorization\": f\"Bearer {get_oauth_token()}\",\n",
    "        }\n",
    "    )\n",
    "\n",
    "    return ODataService(\n",
    "        BRIGHT_MLS_API_URL,\n",
    "        session=session,\n",
    "        reflect_entities=True,\n",
    "        # reflect_output_package=\"backend.apps.brightmls.entities_cache\",\n",
    "    )"
   ],
   "id": "118ba2d89f543719",
   "outputs": [],
   "execution_count": 15
  },
  {
   "metadata": {
    "jupyter": {
     "is_executing": true
    },
    "ExecuteTime": {
     "start_time": "2024-10-25T13:46:47.890391Z"
    }
   },
   "cell_type": "code",
   "source": "service = get_service()",
   "id": "f3a637b6ceee6fa3",
   "outputs": [
    {
     "data": {
      "text/plain": [
       "Output()"
      ],
      "application/vnd.jupyter.widget-view+json": {
       "version_major": 2,
       "version_minor": 0,
       "model_id": "b75ae5e9d02745e7839ff741610b95f0"
      }
     },
     "metadata": {},
     "output_type": "display_data"
    },
    {
     "data": {
      "text/plain": [],
      "text/html": [
       "<pre style=\"white-space:pre;overflow-x:auto;line-height:normal;font-family:Menlo,'DejaVu Sans Mono',consolas,'Courier New',monospace\"></pre>\n"
      ]
     },
     "metadata": {},
     "output_type": "display_data"
    },
    {
     "data": {
      "text/plain": [
       "Output()"
      ],
      "application/vnd.jupyter.widget-view+json": {
       "version_major": 2,
       "version_minor": 0,
       "model_id": "b4097d76d1714b418ea9b2beb9ea42e5"
      }
     },
     "metadata": {},
     "output_type": "display_data"
    },
    {
     "data": {
      "text/plain": [],
      "text/html": [
       "<pre style=\"white-space:pre;overflow-x:auto;line-height:normal;font-family:Menlo,'DejaVu Sans Mono',consolas,'Courier New',monospace\"></pre>\n"
      ]
     },
     "metadata": {},
     "output_type": "display_data"
    },
    {
     "data": {
      "text/plain": [
       "Output()"
      ],
      "application/vnd.jupyter.widget-view+json": {
       "version_major": 2,
       "version_minor": 0,
       "model_id": "d618c24240844eef8a6dad7748e1fbd6"
      }
     },
     "metadata": {},
     "output_type": "display_data"
    },
    {
     "data": {
      "text/plain": [],
      "text/html": [
       "<pre style=\"white-space:pre;overflow-x:auto;line-height:normal;font-family:Menlo,'DejaVu Sans Mono',consolas,'Courier New',monospace\"></pre>\n"
      ]
     },
     "metadata": {},
     "output_type": "display_data"
    },
    {
     "data": {
      "text/plain": [
       "Output()"
      ],
      "application/vnd.jupyter.widget-view+json": {
       "version_major": 2,
       "version_minor": 0,
       "model_id": "f1265463b93840d7900c1b493ffa7e68"
      }
     },
     "metadata": {},
     "output_type": "display_data"
    },
    {
     "data": {
      "text/plain": [],
      "text/html": [
       "<pre style=\"white-space:pre;overflow-x:auto;line-height:normal;font-family:Menlo,'DejaVu Sans Mono',consolas,'Courier New',monospace\"></pre>\n"
      ]
     },
     "metadata": {},
     "output_type": "display_data"
    },
    {
     "data": {
      "text/plain": [
       "Output()"
      ],
      "application/vnd.jupyter.widget-view+json": {
       "version_major": 2,
       "version_minor": 0,
       "model_id": "e269edf32118476d9717e90fecb28494"
      }
     },
     "metadata": {},
     "output_type": "display_data"
    },
    {
     "data": {
      "text/plain": [],
      "text/html": [
       "<pre style=\"white-space:pre;overflow-x:auto;line-height:normal;font-family:Menlo,'DejaVu Sans Mono',consolas,'Courier New',monospace\"></pre>\n"
      ]
     },
     "metadata": {},
     "output_type": "display_data"
    },
    {
     "data": {
      "text/plain": [
       "Output()"
      ],
      "application/vnd.jupyter.widget-view+json": {
       "version_major": 2,
       "version_minor": 0,
       "model_id": "e76f433ea9874a49b694df31e2f26fb8"
      }
     },
     "metadata": {},
     "output_type": "display_data"
    },
    {
     "data": {
      "text/plain": [],
      "text/html": [
       "<pre style=\"white-space:pre;overflow-x:auto;line-height:normal;font-family:Menlo,'DejaVu Sans Mono',consolas,'Courier New',monospace\"></pre>\n"
      ]
     },
     "metadata": {},
     "output_type": "display_data"
    },
    {
     "data": {
      "text/plain": [
       "Output()"
      ],
      "application/vnd.jupyter.widget-view+json": {
       "version_major": 2,
       "version_minor": 0,
       "model_id": "de5cf385c6f1485eafb7a820396d2567"
      }
     },
     "metadata": {},
     "output_type": "display_data"
    },
    {
     "data": {
      "text/plain": [],
      "text/html": [
       "<pre style=\"white-space:pre;overflow-x:auto;line-height:normal;font-family:Menlo,'DejaVu Sans Mono',consolas,'Courier New',monospace\"></pre>\n"
      ]
     },
     "metadata": {},
     "output_type": "display_data"
    }
   ],
   "execution_count": null
  },
  {
   "metadata": {
    "ExecuteTime": {
     "end_time": "2024-10-25T15:35:26.695469Z",
     "start_time": "2024-10-25T15:35:26.693468Z"
    }
   },
   "cell_type": "code",
   "source": [
    "# Team = service.entities[\"Team\"]\n",
    "# TeamMember = service.entities[\"TeamMember\"]\n",
    "# BrightMembers = service.entities[\"BrightMembers\"]\n",
    "city_entity = service.entities[\"City\"]"
   ],
   "id": "ca5ab881a20f67b1",
   "outputs": [],
   "execution_count": 64
  },
  {
   "metadata": {
    "ExecuteTime": {
     "end_time": "2024-10-25T15:34:29.258441Z",
     "start_time": "2024-10-25T15:34:28.307730Z"
    }
   },
   "cell_type": "code",
   "source": [
    "# Try to determine the number of cities in the database\n",
    "# query = service.query(city_entity)\n",
    "# query = query.count()\n",
    "# query = query.limit(10)"
   ],
   "id": "64f4b4e6534b1596",
   "outputs": [
    {
     "ename": "ODataError",
     "evalue": "HTTP 501 | 501 | No processor for interface 'CountEntityCollectionProcessor' registered. | None",
     "output_type": "error",
     "traceback": [
      "\u001B[0;31m---------------------------------------------------------------------------\u001B[0m",
      "\u001B[0;31mHTTPError\u001B[0m                                 Traceback (most recent call last)",
      "File \u001B[0;32m~/Projects/sloboda/hagan_realty/hagan_realty_monolith/.venv/lib/python3.11/site-packages/odata/connection.py:76\u001B[0m, in \u001B[0;36mODataConnection._handle_odata_error\u001B[0;34m(self, response)\u001B[0m\n\u001B[1;32m     75\u001B[0m \u001B[38;5;28;01mtry\u001B[39;00m:\n\u001B[0;32m---> 76\u001B[0m     \u001B[43mresponse\u001B[49m\u001B[38;5;241;43m.\u001B[39;49m\u001B[43mraise_for_status\u001B[49m\u001B[43m(\u001B[49m\u001B[43m)\u001B[49m\n\u001B[1;32m     77\u001B[0m \u001B[38;5;28;01mexcept\u001B[39;00m:\n",
      "File \u001B[0;32m~/Projects/sloboda/hagan_realty/hagan_realty_monolith/.venv/lib/python3.11/site-packages/requests/models.py:1024\u001B[0m, in \u001B[0;36mResponse.raise_for_status\u001B[0;34m(self)\u001B[0m\n\u001B[1;32m   1023\u001B[0m \u001B[38;5;28;01mif\u001B[39;00m http_error_msg:\n\u001B[0;32m-> 1024\u001B[0m     \u001B[38;5;28;01mraise\u001B[39;00m HTTPError(http_error_msg, response\u001B[38;5;241m=\u001B[39m\u001B[38;5;28mself\u001B[39m)\n",
      "\u001B[0;31mHTTPError\u001B[0m: 501 Server Error:  for url: https://bright-reso.brightmls.com/RESO/OData/bright/City/$count",
      "\nDuring handling of the above exception, another exception occurred:\n",
      "\u001B[0;31mODataError\u001B[0m                                Traceback (most recent call last)",
      "Cell \u001B[0;32mIn[63], line 3\u001B[0m\n\u001B[1;32m      1\u001B[0m \u001B[38;5;66;03m# Try to determine the number of cities in the database\u001B[39;00m\n\u001B[1;32m      2\u001B[0m query \u001B[38;5;241m=\u001B[39m service\u001B[38;5;241m.\u001B[39mquery(city_entity)\n\u001B[0;32m----> 3\u001B[0m query \u001B[38;5;241m=\u001B[39m \u001B[43mquery\u001B[49m\u001B[38;5;241;43m.\u001B[39;49m\u001B[43mcount\u001B[49m\u001B[43m(\u001B[49m\u001B[43m)\u001B[49m\n\u001B[1;32m      4\u001B[0m query \u001B[38;5;241m=\u001B[39m query\u001B[38;5;241m.\u001B[39mlimit(\u001B[38;5;241m10\u001B[39m)\n",
      "File \u001B[0;32m~/Projects/sloboda/hagan_realty/hagan_realty_monolith/.venv/lib/python3.11/site-packages/odata/query.py:330\u001B[0m, in \u001B[0;36mQuery.count\u001B[0;34m(self)\u001B[0m\n\u001B[1;32m    328\u001B[0m url \u001B[38;5;241m=\u001B[39m \u001B[38;5;28mself\u001B[39m\u001B[38;5;241m.\u001B[39m_get_url() \u001B[38;5;241m+\u001B[39m \u001B[38;5;124m\"\u001B[39m\u001B[38;5;124m/$count\u001B[39m\u001B[38;5;124m\"\u001B[39m\n\u001B[1;32m    329\u001B[0m options \u001B[38;5;241m=\u001B[39m \u001B[38;5;28mself\u001B[39m\u001B[38;5;241m.\u001B[39m_get_options()\n\u001B[0;32m--> 330\u001B[0m data \u001B[38;5;241m=\u001B[39m \u001B[38;5;28;43mself\u001B[39;49m\u001B[38;5;241;43m.\u001B[39;49m\u001B[43mconnection\u001B[49m\u001B[38;5;241;43m.\u001B[39;49m\u001B[43mexecute_get\u001B[49m\u001B[43m(\u001B[49m\u001B[43murl\u001B[49m\u001B[43m,\u001B[49m\u001B[43m \u001B[49m\u001B[43moptions\u001B[49m\u001B[43m,\u001B[49m\u001B[43m \u001B[49m\u001B[43mallow_plain_response\u001B[49m\u001B[38;5;241;43m=\u001B[39;49m\u001B[38;5;28;43;01mTrue\u001B[39;49;00m\u001B[43m)\u001B[49m\n\u001B[1;32m    331\u001B[0m \u001B[38;5;28;01mreturn\u001B[39;00m \u001B[38;5;28mint\u001B[39m(data)\n",
      "File \u001B[0;32m~/Projects/sloboda/hagan_realty/hagan_realty_monolith/.venv/lib/python3.11/site-packages/odata/connection.py:134\u001B[0m, in \u001B[0;36mODataConnection.execute_get\u001B[0;34m(self, url, params, allow_plain_response, extra_headers)\u001B[0m\n\u001B[1;32m    131\u001B[0m     \u001B[38;5;28mself\u001B[39m\u001B[38;5;241m.\u001B[39mlog\u001B[38;5;241m.\u001B[39minfo(\u001B[38;5;124mu\u001B[39m\u001B[38;5;124m'\u001B[39m\u001B[38;5;124mQuery: \u001B[39m\u001B[38;5;132;01m{0}\u001B[39;00m\u001B[38;5;124m'\u001B[39m\u001B[38;5;241m.\u001B[39mformat(params))\n\u001B[1;32m    133\u001B[0m response \u001B[38;5;241m=\u001B[39m \u001B[38;5;28mself\u001B[39m\u001B[38;5;241m.\u001B[39m_do_get(url, params\u001B[38;5;241m=\u001B[39mparams, headers\u001B[38;5;241m=\u001B[39mheaders)\n\u001B[0;32m--> 134\u001B[0m \u001B[38;5;28;43mself\u001B[39;49m\u001B[38;5;241;43m.\u001B[39;49m\u001B[43m_handle_odata_error\u001B[49m\u001B[43m(\u001B[49m\u001B[43mresponse\u001B[49m\u001B[43m)\u001B[49m\n\u001B[1;32m    135\u001B[0m response_ct \u001B[38;5;241m=\u001B[39m response\u001B[38;5;241m.\u001B[39mheaders\u001B[38;5;241m.\u001B[39mget(\u001B[38;5;124m'\u001B[39m\u001B[38;5;124mcontent-type\u001B[39m\u001B[38;5;124m'\u001B[39m, \u001B[38;5;124m'\u001B[39m\u001B[38;5;124m'\u001B[39m)\n\u001B[1;32m    136\u001B[0m \u001B[38;5;28;01mif\u001B[39;00m response\u001B[38;5;241m.\u001B[39mstatus_code \u001B[38;5;241m==\u001B[39m requests\u001B[38;5;241m.\u001B[39mcodes\u001B[38;5;241m.\u001B[39mno_content:\n",
      "File \u001B[0;32m~/Projects/sloboda/hagan_realty/hagan_realty_monolith/.venv/lib/python3.11/site-packages/odata/connection.py:120\u001B[0m, in \u001B[0;36mODataConnection._handle_odata_error\u001B[0;34m(self, response)\u001B[0m\n\u001B[1;32m    118\u001B[0m err\u001B[38;5;241m.\u001B[39mmessage \u001B[38;5;241m=\u001B[39m message\n\u001B[1;32m    119\u001B[0m err\u001B[38;5;241m.\u001B[39mdetailed_message \u001B[38;5;241m=\u001B[39m detailed_message\n\u001B[0;32m--> 120\u001B[0m \u001B[38;5;28;01mraise\u001B[39;00m err\n",
      "\u001B[0;31mODataError\u001B[0m: HTTP 501 | 501 | No processor for interface 'CountEntityCollectionProcessor' registered. | None"
     ]
    }
   ],
   "execution_count": 63
  },
  {
   "metadata": {
    "ExecuteTime": {
     "end_time": "2024-10-25T15:33:06.947985Z",
     "start_time": "2024-10-25T15:32:56.809836Z"
    }
   },
   "cell_type": "code",
   "source": [
    "offset = 0\n",
    "limit = 1000\n",
    "\n",
    "while True:\n",
    "    print(f'--- offset:{offset} ---')\n",
    "    query = service.query(city_entity)\n",
    "    query = query.offset(offset).limit(limit)\n",
    "    \n",
    "    cities = query.all()\n",
    "    print(f\"--- fetched cities: {len(cities)}\")\n",
    "    \n",
    "    if not cities:\n",
    "        break\n",
    "    \n",
    "    offset += limit\n",
    "    \n",
    "    for entity in cities[:5]:\n",
    "        print(entity.CtyCityCounty)\n",
    "        \n",
    "    print('---')\n",
    "    \n",
    "    if offset > 2000:\n",
    "        break\n",
    "\n",
    "# print(len(cities))\n",
    "# for entity in cities[:5]:\n",
    "#     print(service.values(entity))"
   ],
   "id": "6c6c65ac6e65d436",
   "outputs": [
    {
     "name": "stdout",
     "output_type": "stream",
     "text": [
      "--- offset:0 ---\n",
      "--- fetched cities: 1000\n",
      "DEKALB-IN\n",
      "PIKE-KY\n",
      "STODDARD-MO\n",
      "OKANOGAN-WA\n",
      "LYON-NV\n",
      "---\n",
      "--- offset:1000 ---\n",
      "--- fetched cities: 1000\n",
      "MOUNTRAIL-ND\n",
      "HARFORD-MD\n",
      "HAMPTON-SC\n",
      "MCLENNAN-TX\n",
      "ALBEMARLE-VA\n",
      "---\n",
      "--- offset:2000 ---\n",
      "--- fetched cities: 1000\n",
      "HARPER-KS\n",
      "PLATTE-MO\n",
      "NOME-AK\n",
      "PIKE-KY\n",
      "HAMPDEN-MA\n",
      "---\n"
     ]
    }
   ],
   "execution_count": 62
  },
  {
   "metadata": {},
   "cell_type": "code",
   "outputs": [],
   "execution_count": null,
   "source": "",
   "id": "77e68ae76f228911"
  },
  {
   "metadata": {},
   "cell_type": "code",
   "outputs": [],
   "execution_count": 20,
   "source": [
    "\n",
    "# get all teams\n",
    "query = service.query(Team)\n",
    "teams = query.all()"
   ],
   "id": "edca73ff66e89550"
  },
  {
   "metadata": {
    "ExecuteTime": {
     "end_time": "2024-10-25T14:16:42.356143Z",
     "start_time": "2024-10-25T14:16:42.130920Z"
    }
   },
   "cell_type": "code",
   "source": [
    "team_instances = []\n",
    "for team in teams[8:10]:\n",
    "    # print(team)\n",
    "    # print(service.values(team))\n",
    "    print(team.TeamName)\n",
    "    print(team.TeamLeadMemberKey)\n",
    "    if team.TeamLeadMemberKey:\n",
    "        print(service.query(BrightMembers).filter(BrightMembers.MemberKey == team.TeamLeadMemberKey).one().MemberFullName)\n",
    "    print()"
   ],
   "id": "4f74f77bde4c13b",
   "outputs": [
    {
     "name": "stdout",
     "output_type": "stream",
     "text": [
      "Let's Move Crew\n",
      "121136934864\n",
      "Katharine J Hopkins\n",
      "\n",
      "Mika New team for approval 2 Testing New Team Name Mika New team for approval 2\n",
      "None\n",
      "\n"
     ]
    }
   ],
   "execution_count": 35
  },
  {
   "metadata": {},
   "cell_type": "code",
   "outputs": [],
   "execution_count": null,
   "source": "",
   "id": "fc5dc490b1d571ae"
  }
 ],
 "metadata": {
  "kernelspec": {
   "display_name": "Python 3",
   "language": "python",
   "name": "python3"
  },
  "language_info": {
   "codemirror_mode": {
    "name": "ipython",
    "version": 2
   },
   "file_extension": ".py",
   "mimetype": "text/x-python",
   "name": "python",
   "nbconvert_exporter": "python",
   "pygments_lexer": "ipython2",
   "version": "2.7.6"
  }
 },
 "nbformat": 4,
 "nbformat_minor": 5
}
